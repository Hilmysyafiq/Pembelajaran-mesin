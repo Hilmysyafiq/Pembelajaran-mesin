{
 "cells": [
  {
   "cell_type": "code",
   "execution_count": null,
   "id": "507b3a70-ec88-4f31-806c-56ee1d84345e",
   "metadata": {},
   "outputs": [],
   "source": [
    "import numpy as np\n",
    "import pandas as pd\n",
    "import nltk\n",
    "nltk.download(\"stopwords\")\n",
    "nltk.download(\"punkt\")\n",
    "\n",
    "\n",
    "from sklearn.model_selection import train_test_split\n",
    "from sklearn.pipeline import Pipeline\n",
    "from sklearn.compose import ColumnTransformer\n",
    "\n",
    "from jcopml.pipeline import num_pipe, cat_pipe\n",
    "from jcopml.utils import save_model, load_model\n",
    "from jcopml.plot import plot_missing_value\n",
    "from jcopml.feature_importance import mean_score_decrease\n",
    "\n",
    "from luwiji.text_proc import illustration"
   ]
  },
  {
   "cell_type": "code",
   "execution_count": null,
   "id": "50af1f3c-8cb1-441d-8eb8-05bae4b3e831",
   "metadata": {},
   "outputs": [],
   "source": [
    "from nltk.tokenize import word_tokenize\n",
    "from nltk.corpus import stopwords\n",
    "from string import punctuation\n",
    "\n",
    "sw_indo = stopwords.words() + list(punctuation)"
   ]
  },
  {
   "cell_type": "code",
   "execution_count": null,
   "id": "9c32c59c-6844-44c7-a5b3-70bb75cfa42b",
   "metadata": {},
   "outputs": [],
   "source": [
    "df = pd.read_csv(\"spam.csv\")"
   ]
  },
  {
   "cell_type": "code",
   "execution_count": null,
   "id": "2a58e11d-e232-4609-bf88-230dd4d38bb0",
   "metadata": {},
   "outputs": [],
   "source": [
    "df.head()"
   ]
  },
  {
   "cell_type": "markdown",
   "id": "1daabcfe",
   "metadata": {},
   "source": [
    "# data set spliting"
   ]
  },
  {
   "cell_type": "code",
   "execution_count": null,
   "id": "82c48fd6-c6aa-4073-9fa7-7b62da78cc41",
   "metadata": {},
   "outputs": [],
   "source": [
    "#membagi dataset menjadi x_train, x_test, y_train, y_test\n",
    "x = df.Teks\n",
    "y = df.label\n",
    "\n",
    "x_train, x_test, y_train, y_test = train_test_split(x, y, test_size=0.2, stratify=y, random_state=42)\n",
    "x_train.shape, x_test.shape, y_train.shape, y_test.shape"
   ]
  },
  {
   "cell_type": "markdown",
   "id": "ecc00005",
   "metadata": {},
   "source": [
    "# Training"
   ]
  },
  {
   "cell_type": "code",
   "execution_count": null,
   "id": "81b01b70",
   "metadata": {},
   "outputs": [],
   "source": [
    "from sklearn.linear_model import LogisticRegression\n",
    "from sklearn.model_selection import RandomizedSearchCV\n",
    "from jcopml.tuning import random_search_params as rsp\n",
    "\n",
    "from sklearn.feature_extraction.text import TfidfVectorizer"
   ]
  },
  {
   "cell_type": "code",
   "execution_count": null,
   "id": "fb1ef405",
   "metadata": {},
   "outputs": [],
   "source": [
    "#melatih data dengan model algoritma LogisticRegression\n",
    "pipeline = Pipeline([\n",
    "    ('prep', TfidfVectorizer(tokenizer=word_tokenize, stop_words=sw_indo)),\n",
    "    ('algo', LogisticRegression(solver='lbfgs', n_jobs=-1, random_state=42))\n",
    "])\n",
    "\n",
    "model = RandomizedSearchCV(pipeline, rsp.logreg_params, cv=3, n_iter=50, n_jobs=-1, verbose=1)\n",
    "model.fit(x_train, y_train)\n",
    "\n",
    "print(model.best_params_)\n",
    "print(model.score(x_train, y_train), model.best_score_ ,model.score(x_test, y_test))\n",
    "print(\"kuda\")"
   ]
  },
  {
   "cell_type": "markdown",
   "id": "3f8821d4",
   "metadata": {},
   "source": [
    "# cek"
   ]
  },
  {
   "cell_type": "code",
   "execution_count": 139,
   "id": "25ca9a99",
   "metadata": {},
   "outputs": [
    {
     "data": {
      "text/plain": [
       "(array([0], dtype=int64), array([[0.67473219, 0.32526781]]))"
      ]
     },
     "execution_count": 139,
     "metadata": {},
     "output_type": "execute_result"
    }
   ],
   "source": [
    "#jika 0 maka bukan spam\n",
    "#jika 1 maka spam\n",
    "text = [\"halo saya ingin pergi ke pasar\"]\n",
    "model.predict(text), model.predict_proba(text)"
   ]
  }
 ],
 "metadata": {
  "kernelspec": {
   "display_name": "Python 3 (ipykernel)",
   "language": "python",
   "name": "python3"
  },
  "language_info": {
   "codemirror_mode": {
    "name": "ipython",
    "version": 3
   },
   "file_extension": ".py",
   "mimetype": "text/x-python",
   "name": "python",
   "nbconvert_exporter": "python",
   "pygments_lexer": "ipython3",
   "version": "3.12.3"
  }
 },
 "nbformat": 4,
 "nbformat_minor": 5
}
