{
 "cells": [
  {
   "cell_type": "markdown",
   "metadata": {},
   "source": [
    "## import numpy dan pandas"
   ]
  },
  {
   "cell_type": "code",
   "execution_count": 5,
   "metadata": {},
   "outputs": [],
   "source": [
    "# install terlebih dahulu dengan cara \"pip install numpy\" pada terminal\n",
    "import numpy as np\n",
    "\n",
    "# install pandas terlebih dahulu dengan cara \"pip install pandas\" di dalam terminal\n",
    "import pandas as pd"
   ]
  },
  {
   "cell_type": "markdown",
   "metadata": {},
   "source": [
    "## import data"
   ]
  },
  {
   "cell_type": "code",
   "execution_count": 47,
   "metadata": {},
   "outputs": [],
   "source": [
    "# pd.read_csv, pd.read_excel, dll . digunakan untuk membaca data dari berbagai jenis file\n",
    "data = pd.read_csv(\"data.csv\")\n",
    "\n",
    "beyonceTracks = pd.read_csv(\"beyonce_tracks.csv\")"
   ]
  },
  {
   "cell_type": "markdown",
   "metadata": {},
   "source": [
    "# python"
   ]
  },
  {
   "cell_type": "markdown",
   "metadata": {},
   "source": [
    "### menampilkan 5 baris pertama dari data set"
   ]
  },
  {
   "cell_type": "code",
   "execution_count": 48,
   "metadata": {},
   "outputs": [
    {
     "data": {
      "text/html": [
       "<div>\n",
       "<style scoped>\n",
       "    .dataframe tbody tr th:only-of-type {\n",
       "        vertical-align: middle;\n",
       "    }\n",
       "\n",
       "    .dataframe tbody tr th {\n",
       "        vertical-align: top;\n",
       "    }\n",
       "\n",
       "    .dataframe thead th {\n",
       "        text-align: right;\n",
       "    }\n",
       "</style>\n",
       "<table border=\"1\" class=\"dataframe\">\n",
       "  <thead>\n",
       "    <tr style=\"text-align: right;\">\n",
       "      <th></th>\n",
       "      <th>artist_name</th>\n",
       "      <th>track_name</th>\n",
       "      <th>album_name</th>\n",
       "      <th>is_explicit</th>\n",
       "      <th>genres</th>\n",
       "      <th>release_date</th>\n",
       "      <th>track_id</th>\n",
       "      <th>danceability</th>\n",
       "      <th>valence</th>\n",
       "      <th>energy</th>\n",
       "      <th>loudness</th>\n",
       "      <th>acousticness</th>\n",
       "      <th>instrumentalness</th>\n",
       "      <th>liveness</th>\n",
       "      <th>speechiness</th>\n",
       "      <th>key</th>\n",
       "      <th>tempo</th>\n",
       "      <th>mode</th>\n",
       "      <th>duration_ms</th>\n",
       "      <th>time_signature</th>\n",
       "    </tr>\n",
       "  </thead>\n",
       "  <tbody>\n",
       "    <tr>\n",
       "      <th>0</th>\n",
       "      <td>Beyoncé</td>\n",
       "      <td>I'M THAT GIRL</td>\n",
       "      <td>RENAISSANCE</td>\n",
       "      <td>True</td>\n",
       "      <td>pop, r&amp;b</td>\n",
       "      <td>2022-07-29</td>\n",
       "      <td>1MpCaOeUWhox2Fgigbe1cL</td>\n",
       "      <td>0.554</td>\n",
       "      <td>0.136</td>\n",
       "      <td>0.535</td>\n",
       "      <td>-8.959</td>\n",
       "      <td>0.061600</td>\n",
       "      <td>0.000013</td>\n",
       "      <td>0.1240</td>\n",
       "      <td>0.1860</td>\n",
       "      <td>5</td>\n",
       "      <td>105.865</td>\n",
       "      <td>0</td>\n",
       "      <td>208014</td>\n",
       "      <td>4</td>\n",
       "    </tr>\n",
       "    <tr>\n",
       "      <th>1</th>\n",
       "      <td>Beyoncé</td>\n",
       "      <td>COZY</td>\n",
       "      <td>RENAISSANCE</td>\n",
       "      <td>True</td>\n",
       "      <td>pop, r&amp;b</td>\n",
       "      <td>2022-07-29</td>\n",
       "      <td>0mKGwFMHzTprtS2vpR3b6s</td>\n",
       "      <td>0.556</td>\n",
       "      <td>0.367</td>\n",
       "      <td>0.630</td>\n",
       "      <td>-8.150</td>\n",
       "      <td>0.000828</td>\n",
       "      <td>0.004680</td>\n",
       "      <td>0.1550</td>\n",
       "      <td>0.1020</td>\n",
       "      <td>7</td>\n",
       "      <td>149.147</td>\n",
       "      <td>1</td>\n",
       "      <td>210372</td>\n",
       "      <td>5</td>\n",
       "    </tr>\n",
       "    <tr>\n",
       "      <th>2</th>\n",
       "      <td>Beyoncé</td>\n",
       "      <td>ALIEN SUPERSTAR</td>\n",
       "      <td>RENAISSANCE</td>\n",
       "      <td>True</td>\n",
       "      <td>pop, r&amp;b</td>\n",
       "      <td>2022-07-29</td>\n",
       "      <td>1Hohk6AufHZOrrhMXZppax</td>\n",
       "      <td>0.545</td>\n",
       "      <td>0.464</td>\n",
       "      <td>0.641</td>\n",
       "      <td>-6.398</td>\n",
       "      <td>0.004530</td>\n",
       "      <td>0.000066</td>\n",
       "      <td>0.1710</td>\n",
       "      <td>0.0998</td>\n",
       "      <td>10</td>\n",
       "      <td>121.892</td>\n",
       "      <td>0</td>\n",
       "      <td>215460</td>\n",
       "      <td>4</td>\n",
       "    </tr>\n",
       "    <tr>\n",
       "      <th>3</th>\n",
       "      <td>Beyoncé</td>\n",
       "      <td>CUFF IT</td>\n",
       "      <td>RENAISSANCE</td>\n",
       "      <td>True</td>\n",
       "      <td>pop, r&amp;b</td>\n",
       "      <td>2022-07-29</td>\n",
       "      <td>1xzi1Jcr7mEi9K2RfzLOqS</td>\n",
       "      <td>0.780</td>\n",
       "      <td>0.642</td>\n",
       "      <td>0.689</td>\n",
       "      <td>-5.668</td>\n",
       "      <td>0.036800</td>\n",
       "      <td>0.000010</td>\n",
       "      <td>0.0698</td>\n",
       "      <td>0.1410</td>\n",
       "      <td>7</td>\n",
       "      <td>115.042</td>\n",
       "      <td>1</td>\n",
       "      <td>225389</td>\n",
       "      <td>4</td>\n",
       "    </tr>\n",
       "    <tr>\n",
       "      <th>4</th>\n",
       "      <td>Beyoncé, BEAM</td>\n",
       "      <td>ENERGY (feat. Beam)</td>\n",
       "      <td>RENAISSANCE</td>\n",
       "      <td>False</td>\n",
       "      <td>pop, r&amp;b</td>\n",
       "      <td>2022-07-29</td>\n",
       "      <td>0314PeD1sQNonfVWix3B2K</td>\n",
       "      <td>0.903</td>\n",
       "      <td>0.587</td>\n",
       "      <td>0.519</td>\n",
       "      <td>-9.151</td>\n",
       "      <td>0.281000</td>\n",
       "      <td>0.000106</td>\n",
       "      <td>0.1550</td>\n",
       "      <td>0.2600</td>\n",
       "      <td>1</td>\n",
       "      <td>114.991</td>\n",
       "      <td>1</td>\n",
       "      <td>116727</td>\n",
       "      <td>4</td>\n",
       "    </tr>\n",
       "  </tbody>\n",
       "</table>\n",
       "</div>"
      ],
      "text/plain": [
       "     artist_name           track_name   album_name  is_explicit    genres  \\\n",
       "0        Beyoncé        I'M THAT GIRL  RENAISSANCE         True  pop, r&b   \n",
       "1        Beyoncé                 COZY  RENAISSANCE         True  pop, r&b   \n",
       "2        Beyoncé      ALIEN SUPERSTAR  RENAISSANCE         True  pop, r&b   \n",
       "3        Beyoncé              CUFF IT  RENAISSANCE         True  pop, r&b   \n",
       "4  Beyoncé, BEAM  ENERGY (feat. Beam)  RENAISSANCE        False  pop, r&b   \n",
       "\n",
       "  release_date                track_id  danceability  valence  energy  \\\n",
       "0   2022-07-29  1MpCaOeUWhox2Fgigbe1cL         0.554    0.136   0.535   \n",
       "1   2022-07-29  0mKGwFMHzTprtS2vpR3b6s         0.556    0.367   0.630   \n",
       "2   2022-07-29  1Hohk6AufHZOrrhMXZppax         0.545    0.464   0.641   \n",
       "3   2022-07-29  1xzi1Jcr7mEi9K2RfzLOqS         0.780    0.642   0.689   \n",
       "4   2022-07-29  0314PeD1sQNonfVWix3B2K         0.903    0.587   0.519   \n",
       "\n",
       "   loudness  acousticness  instrumentalness  liveness  speechiness  key  \\\n",
       "0    -8.959      0.061600          0.000013    0.1240       0.1860    5   \n",
       "1    -8.150      0.000828          0.004680    0.1550       0.1020    7   \n",
       "2    -6.398      0.004530          0.000066    0.1710       0.0998   10   \n",
       "3    -5.668      0.036800          0.000010    0.0698       0.1410    7   \n",
       "4    -9.151      0.281000          0.000106    0.1550       0.2600    1   \n",
       "\n",
       "     tempo  mode  duration_ms  time_signature  \n",
       "0  105.865     0       208014               4  \n",
       "1  149.147     1       210372               5  \n",
       "2  121.892     0       215460               4  \n",
       "3  115.042     1       225389               4  \n",
       "4  114.991     1       116727               4  "
      ]
     },
     "execution_count": 48,
     "metadata": {},
     "output_type": "execute_result"
    }
   ],
   "source": [
    "beyonceTracks.head()"
   ]
  },
  {
   "cell_type": "markdown",
   "metadata": {},
   "source": [
    "### menampilkan 5 baris terakhir dari data set"
   ]
  },
  {
   "cell_type": "code",
   "execution_count": 49,
   "metadata": {},
   "outputs": [
    {
     "data": {
      "text/html": [
       "<div>\n",
       "<style scoped>\n",
       "    .dataframe tbody tr th:only-of-type {\n",
       "        vertical-align: middle;\n",
       "    }\n",
       "\n",
       "    .dataframe tbody tr th {\n",
       "        vertical-align: top;\n",
       "    }\n",
       "\n",
       "    .dataframe thead th {\n",
       "        text-align: right;\n",
       "    }\n",
       "</style>\n",
       "<table border=\"1\" class=\"dataframe\">\n",
       "  <thead>\n",
       "    <tr style=\"text-align: right;\">\n",
       "      <th></th>\n",
       "      <th>artist_name</th>\n",
       "      <th>track_name</th>\n",
       "      <th>album_name</th>\n",
       "      <th>is_explicit</th>\n",
       "      <th>genres</th>\n",
       "      <th>release_date</th>\n",
       "      <th>track_id</th>\n",
       "      <th>danceability</th>\n",
       "      <th>valence</th>\n",
       "      <th>energy</th>\n",
       "      <th>loudness</th>\n",
       "      <th>acousticness</th>\n",
       "      <th>instrumentalness</th>\n",
       "      <th>liveness</th>\n",
       "      <th>speechiness</th>\n",
       "      <th>key</th>\n",
       "      <th>tempo</th>\n",
       "      <th>mode</th>\n",
       "      <th>duration_ms</th>\n",
       "      <th>time_signature</th>\n",
       "    </tr>\n",
       "  </thead>\n",
       "  <tbody>\n",
       "    <tr>\n",
       "      <th>331</th>\n",
       "      <td>Beyoncé, JAY-Z</td>\n",
       "      <td>Crazy In Love (feat. Jay-Z)</td>\n",
       "      <td>Crazy In Love (featuring Jay-Z)</td>\n",
       "      <td>False</td>\n",
       "      <td>pop, r&amp;b</td>\n",
       "      <td>2003-05-20</td>\n",
       "      <td>19lLzX7vt4BhrSOaHeRyn7</td>\n",
       "      <td>0.656</td>\n",
       "      <td>0.700</td>\n",
       "      <td>0.767</td>\n",
       "      <td>-6.607</td>\n",
       "      <td>0.00248</td>\n",
       "      <td>0.000000</td>\n",
       "      <td>0.0688</td>\n",
       "      <td>0.2100</td>\n",
       "      <td>2</td>\n",
       "      <td>99.201</td>\n",
       "      <td>0</td>\n",
       "      <td>236120</td>\n",
       "      <td>4</td>\n",
       "    </tr>\n",
       "    <tr>\n",
       "      <th>332</th>\n",
       "      <td>Beyoncé</td>\n",
       "      <td>Work It Out - New Radio Edit</td>\n",
       "      <td>Work It Out</td>\n",
       "      <td>False</td>\n",
       "      <td>pop, r&amp;b</td>\n",
       "      <td>2002-06-17</td>\n",
       "      <td>3hBf0RhTUX3qKJFKaagnIg</td>\n",
       "      <td>0.674</td>\n",
       "      <td>0.960</td>\n",
       "      <td>0.838</td>\n",
       "      <td>-4.066</td>\n",
       "      <td>0.41700</td>\n",
       "      <td>0.000000</td>\n",
       "      <td>0.1890</td>\n",
       "      <td>0.2000</td>\n",
       "      <td>5</td>\n",
       "      <td>173.946</td>\n",
       "      <td>1</td>\n",
       "      <td>221773</td>\n",
       "      <td>4</td>\n",
       "    </tr>\n",
       "    <tr>\n",
       "      <th>333</th>\n",
       "      <td>Beyoncé, Victor Calderone, Mac Quayle</td>\n",
       "      <td>Work It Out - Blow Your Horn Dub</td>\n",
       "      <td>Work It Out</td>\n",
       "      <td>False</td>\n",
       "      <td>pop, r&amp;b</td>\n",
       "      <td>2002-06-17</td>\n",
       "      <td>7t8C85BFp6CwB3PS8Wao1D</td>\n",
       "      <td>0.725</td>\n",
       "      <td>0.295</td>\n",
       "      <td>0.783</td>\n",
       "      <td>-6.275</td>\n",
       "      <td>0.00439</td>\n",
       "      <td>0.682000</td>\n",
       "      <td>0.1430</td>\n",
       "      <td>0.0537</td>\n",
       "      <td>11</td>\n",
       "      <td>129.976</td>\n",
       "      <td>0</td>\n",
       "      <td>597520</td>\n",
       "      <td>4</td>\n",
       "    </tr>\n",
       "    <tr>\n",
       "      <th>334</th>\n",
       "      <td>Beyoncé, Azza</td>\n",
       "      <td>Work It Out - Azza's Nu Soul Mix</td>\n",
       "      <td>Work It Out</td>\n",
       "      <td>False</td>\n",
       "      <td>pop, r&amp;b</td>\n",
       "      <td>2002-06-17</td>\n",
       "      <td>4E82n1R43NJJ2M5A0I5IS1</td>\n",
       "      <td>0.552</td>\n",
       "      <td>0.740</td>\n",
       "      <td>0.728</td>\n",
       "      <td>-6.600</td>\n",
       "      <td>0.18400</td>\n",
       "      <td>0.000564</td>\n",
       "      <td>0.0868</td>\n",
       "      <td>0.3310</td>\n",
       "      <td>2</td>\n",
       "      <td>86.902</td>\n",
       "      <td>1</td>\n",
       "      <td>287200</td>\n",
       "      <td>4</td>\n",
       "    </tr>\n",
       "    <tr>\n",
       "      <th>335</th>\n",
       "      <td>Beyoncé, Maurice Joshua</td>\n",
       "      <td>Work It Out - Maurice's Nu Soul Mix</td>\n",
       "      <td>Work It Out</td>\n",
       "      <td>False</td>\n",
       "      <td>pop, r&amp;b</td>\n",
       "      <td>2002-06-17</td>\n",
       "      <td>3iqTyC2c1sincQjj5t3Fdo</td>\n",
       "      <td>0.832</td>\n",
       "      <td>0.646</td>\n",
       "      <td>0.651</td>\n",
       "      <td>-6.926</td>\n",
       "      <td>0.00110</td>\n",
       "      <td>0.562000</td>\n",
       "      <td>0.3520</td>\n",
       "      <td>0.0490</td>\n",
       "      <td>5</td>\n",
       "      <td>126.013</td>\n",
       "      <td>0</td>\n",
       "      <td>430613</td>\n",
       "      <td>4</td>\n",
       "    </tr>\n",
       "  </tbody>\n",
       "</table>\n",
       "</div>"
      ],
      "text/plain": [
       "                               artist_name  \\\n",
       "331                         Beyoncé, JAY-Z   \n",
       "332                                Beyoncé   \n",
       "333  Beyoncé, Victor Calderone, Mac Quayle   \n",
       "334                          Beyoncé, Azza   \n",
       "335                Beyoncé, Maurice Joshua   \n",
       "\n",
       "                              track_name                       album_name  \\\n",
       "331          Crazy In Love (feat. Jay-Z)  Crazy In Love (featuring Jay-Z)   \n",
       "332         Work It Out - New Radio Edit                      Work It Out   \n",
       "333     Work It Out - Blow Your Horn Dub                      Work It Out   \n",
       "334     Work It Out - Azza's Nu Soul Mix                      Work It Out   \n",
       "335  Work It Out - Maurice's Nu Soul Mix                      Work It Out   \n",
       "\n",
       "     is_explicit    genres release_date                track_id  danceability  \\\n",
       "331        False  pop, r&b   2003-05-20  19lLzX7vt4BhrSOaHeRyn7         0.656   \n",
       "332        False  pop, r&b   2002-06-17  3hBf0RhTUX3qKJFKaagnIg         0.674   \n",
       "333        False  pop, r&b   2002-06-17  7t8C85BFp6CwB3PS8Wao1D         0.725   \n",
       "334        False  pop, r&b   2002-06-17  4E82n1R43NJJ2M5A0I5IS1         0.552   \n",
       "335        False  pop, r&b   2002-06-17  3iqTyC2c1sincQjj5t3Fdo         0.832   \n",
       "\n",
       "     valence  energy  loudness  acousticness  instrumentalness  liveness  \\\n",
       "331    0.700   0.767    -6.607       0.00248          0.000000    0.0688   \n",
       "332    0.960   0.838    -4.066       0.41700          0.000000    0.1890   \n",
       "333    0.295   0.783    -6.275       0.00439          0.682000    0.1430   \n",
       "334    0.740   0.728    -6.600       0.18400          0.000564    0.0868   \n",
       "335    0.646   0.651    -6.926       0.00110          0.562000    0.3520   \n",
       "\n",
       "     speechiness  key    tempo  mode  duration_ms  time_signature  \n",
       "331       0.2100    2   99.201     0       236120               4  \n",
       "332       0.2000    5  173.946     1       221773               4  \n",
       "333       0.0537   11  129.976     0       597520               4  \n",
       "334       0.3310    2   86.902     1       287200               4  \n",
       "335       0.0490    5  126.013     0       430613               4  "
      ]
     },
     "execution_count": 49,
     "metadata": {},
     "output_type": "execute_result"
    }
   ],
   "source": [
    "beyonceTracks.tail()"
   ]
  },
  {
   "cell_type": "markdown",
   "metadata": {},
   "source": [
    "### menampilkan tipe data setiap kolom data set"
   ]
  },
  {
   "cell_type": "code",
   "execution_count": 50,
   "metadata": {},
   "outputs": [
    {
     "name": "stdout",
     "output_type": "stream",
     "text": [
      "artist_name          object\n",
      "track_name           object\n",
      "album_name           object\n",
      "is_explicit            bool\n",
      "genres               object\n",
      "release_date         object\n",
      "track_id             object\n",
      "danceability        float64\n",
      "valence             float64\n",
      "energy              float64\n",
      "loudness            float64\n",
      "acousticness        float64\n",
      "instrumentalness    float64\n",
      "liveness            float64\n",
      "speechiness         float64\n",
      "key                   int64\n",
      "tempo               float64\n",
      "mode                  int64\n",
      "duration_ms           int64\n",
      "time_signature        int64\n",
      "dtype: object\n"
     ]
    }
   ],
   "source": [
    "print(beyonceTracks.dtypes)"
   ]
  },
  {
   "cell_type": "markdown",
   "metadata": {},
   "source": [
    "### melakukan indexing berdasarkan posisi pada data frame"
   ]
  },
  {
   "cell_type": "code",
   "execution_count": 51,
   "metadata": {},
   "outputs": [
    {
     "name": "stdout",
     "output_type": "stream",
     "text": [
      "artist_name                        Beyoncé\n",
      "track_name                   I'M THAT GIRL\n",
      "album_name                     RENAISSANCE\n",
      "is_explicit                           True\n",
      "genres                            pop, r&b\n",
      "release_date                    2022-07-29\n",
      "track_id            1MpCaOeUWhox2Fgigbe1cL\n",
      "danceability                         0.554\n",
      "valence                              0.136\n",
      "energy                               0.535\n",
      "loudness                            -8.959\n",
      "acousticness                        0.0616\n",
      "instrumentalness                  0.000013\n",
      "liveness                             0.124\n",
      "speechiness                          0.186\n",
      "key                                      5\n",
      "tempo                              105.865\n",
      "mode                                     0\n",
      "duration_ms                         208014\n",
      "time_signature                           4\n",
      "Name: 0, dtype: object\n",
      "        track_name   album_name  is_explicit    genres release_date  \\\n",
      "1             COZY  RENAISSANCE         True  pop, r&b   2022-07-29   \n",
      "2  ALIEN SUPERSTAR  RENAISSANCE         True  pop, r&b   2022-07-29   \n",
      "3          CUFF IT  RENAISSANCE         True  pop, r&b   2022-07-29   \n",
      "\n",
      "                 track_id  danceability  valence  energy  loudness  \\\n",
      "1  0mKGwFMHzTprtS2vpR3b6s         0.556    0.367   0.630    -8.150   \n",
      "2  1Hohk6AufHZOrrhMXZppax         0.545    0.464   0.641    -6.398   \n",
      "3  1xzi1Jcr7mEi9K2RfzLOqS         0.780    0.642   0.689    -5.668   \n",
      "\n",
      "   acousticness  instrumentalness  liveness  speechiness  key    tempo  mode  \\\n",
      "1      0.000828          0.004680    0.1550       0.1020    7  149.147     1   \n",
      "2      0.004530          0.000066    0.1710       0.0998   10  121.892     0   \n",
      "3      0.036800          0.000010    0.0698       0.1410    7  115.042     1   \n",
      "\n",
      "   duration_ms  time_signature  \n",
      "1       210372               5  \n",
      "2       215460               4  \n",
      "3       225389               4  \n"
     ]
    }
   ],
   "source": [
    "print(beyonceTracks.iloc[0]) # menampilkan baris pertama\n",
    "print(beyonceTracks.iloc[1:4,1:]) # menampikan baris 2 sampai 4, dan kolom2 sampai akhir"
   ]
  },
  {
   "cell_type": "markdown",
   "metadata": {},
   "source": [
    "### menampilkan statistik dasar setiap kolom data berupa numerik"
   ]
  },
  {
   "cell_type": "code",
   "execution_count": 52,
   "metadata": {},
   "outputs": [
    {
     "data": {
      "text/html": [
       "<div>\n",
       "<style scoped>\n",
       "    .dataframe tbody tr th:only-of-type {\n",
       "        vertical-align: middle;\n",
       "    }\n",
       "\n",
       "    .dataframe tbody tr th {\n",
       "        vertical-align: top;\n",
       "    }\n",
       "\n",
       "    .dataframe thead th {\n",
       "        text-align: right;\n",
       "    }\n",
       "</style>\n",
       "<table border=\"1\" class=\"dataframe\">\n",
       "  <thead>\n",
       "    <tr style=\"text-align: right;\">\n",
       "      <th></th>\n",
       "      <th>danceability</th>\n",
       "      <th>valence</th>\n",
       "      <th>energy</th>\n",
       "      <th>loudness</th>\n",
       "      <th>acousticness</th>\n",
       "      <th>instrumentalness</th>\n",
       "      <th>liveness</th>\n",
       "      <th>speechiness</th>\n",
       "      <th>key</th>\n",
       "      <th>tempo</th>\n",
       "      <th>mode</th>\n",
       "      <th>duration_ms</th>\n",
       "      <th>time_signature</th>\n",
       "    </tr>\n",
       "  </thead>\n",
       "  <tbody>\n",
       "    <tr>\n",
       "      <th>count</th>\n",
       "      <td>336.000000</td>\n",
       "      <td>336.000000</td>\n",
       "      <td>336.000000</td>\n",
       "      <td>336.000000</td>\n",
       "      <td>336.000000</td>\n",
       "      <td>336.000000</td>\n",
       "      <td>336.000000</td>\n",
       "      <td>336.000000</td>\n",
       "      <td>336.000000</td>\n",
       "      <td>336.000000</td>\n",
       "      <td>336.000000</td>\n",
       "      <td>336.000000</td>\n",
       "      <td>336.000000</td>\n",
       "    </tr>\n",
       "    <tr>\n",
       "      <th>mean</th>\n",
       "      <td>0.612640</td>\n",
       "      <td>0.490362</td>\n",
       "      <td>0.682492</td>\n",
       "      <td>-7.289720</td>\n",
       "      <td>0.138767</td>\n",
       "      <td>0.079687</td>\n",
       "      <td>0.305424</td>\n",
       "      <td>0.168143</td>\n",
       "      <td>5.181548</td>\n",
       "      <td>121.615961</td>\n",
       "      <td>0.651786</td>\n",
       "      <td>250289.229167</td>\n",
       "      <td>3.922619</td>\n",
       "    </tr>\n",
       "    <tr>\n",
       "      <th>std</th>\n",
       "      <td>0.155603</td>\n",
       "      <td>0.233648</td>\n",
       "      <td>0.189090</td>\n",
       "      <td>2.854806</td>\n",
       "      <td>0.219504</td>\n",
       "      <td>0.209146</td>\n",
       "      <td>0.265685</td>\n",
       "      <td>0.150844</td>\n",
       "      <td>3.568488</td>\n",
       "      <td>29.594229</td>\n",
       "      <td>0.477115</td>\n",
       "      <td>98478.940431</td>\n",
       "      <td>0.408814</td>\n",
       "    </tr>\n",
       "    <tr>\n",
       "      <th>min</th>\n",
       "      <td>0.143000</td>\n",
       "      <td>0.038800</td>\n",
       "      <td>0.045200</td>\n",
       "      <td>-27.432000</td>\n",
       "      <td>0.000066</td>\n",
       "      <td>0.000000</td>\n",
       "      <td>0.016200</td>\n",
       "      <td>0.027100</td>\n",
       "      <td>0.000000</td>\n",
       "      <td>66.930000</td>\n",
       "      <td>0.000000</td>\n",
       "      <td>16373.000000</td>\n",
       "      <td>1.000000</td>\n",
       "    </tr>\n",
       "    <tr>\n",
       "      <th>25%</th>\n",
       "      <td>0.508750</td>\n",
       "      <td>0.323000</td>\n",
       "      <td>0.557750</td>\n",
       "      <td>-8.451000</td>\n",
       "      <td>0.005295</td>\n",
       "      <td>0.000000</td>\n",
       "      <td>0.097200</td>\n",
       "      <td>0.053650</td>\n",
       "      <td>1.000000</td>\n",
       "      <td>97.076500</td>\n",
       "      <td>0.000000</td>\n",
       "      <td>200813.000000</td>\n",
       "      <td>4.000000</td>\n",
       "    </tr>\n",
       "    <tr>\n",
       "      <th>50%</th>\n",
       "      <td>0.635000</td>\n",
       "      <td>0.489500</td>\n",
       "      <td>0.715000</td>\n",
       "      <td>-6.750500</td>\n",
       "      <td>0.037200</td>\n",
       "      <td>0.000020</td>\n",
       "      <td>0.201000</td>\n",
       "      <td>0.106500</td>\n",
       "      <td>6.000000</td>\n",
       "      <td>123.015000</td>\n",
       "      <td>1.000000</td>\n",
       "      <td>228933.000000</td>\n",
       "      <td>4.000000</td>\n",
       "    </tr>\n",
       "    <tr>\n",
       "      <th>75%</th>\n",
       "      <td>0.725250</td>\n",
       "      <td>0.651000</td>\n",
       "      <td>0.821750</td>\n",
       "      <td>-5.446750</td>\n",
       "      <td>0.158000</td>\n",
       "      <td>0.005510</td>\n",
       "      <td>0.392750</td>\n",
       "      <td>0.254750</td>\n",
       "      <td>8.000000</td>\n",
       "      <td>136.039000</td>\n",
       "      <td>1.000000</td>\n",
       "      <td>278884.750000</td>\n",
       "      <td>4.000000</td>\n",
       "    </tr>\n",
       "    <tr>\n",
       "      <th>max</th>\n",
       "      <td>0.925000</td>\n",
       "      <td>0.971000</td>\n",
       "      <td>0.993000</td>\n",
       "      <td>-2.706000</td>\n",
       "      <td>0.994000</td>\n",
       "      <td>0.937000</td>\n",
       "      <td>0.983000</td>\n",
       "      <td>0.940000</td>\n",
       "      <td>11.000000</td>\n",
       "      <td>216.788000</td>\n",
       "      <td>1.000000</td>\n",
       "      <td>597520.000000</td>\n",
       "      <td>5.000000</td>\n",
       "    </tr>\n",
       "  </tbody>\n",
       "</table>\n",
       "</div>"
      ],
      "text/plain": [
       "       danceability     valence      energy    loudness  acousticness  \\\n",
       "count    336.000000  336.000000  336.000000  336.000000    336.000000   \n",
       "mean       0.612640    0.490362    0.682492   -7.289720      0.138767   \n",
       "std        0.155603    0.233648    0.189090    2.854806      0.219504   \n",
       "min        0.143000    0.038800    0.045200  -27.432000      0.000066   \n",
       "25%        0.508750    0.323000    0.557750   -8.451000      0.005295   \n",
       "50%        0.635000    0.489500    0.715000   -6.750500      0.037200   \n",
       "75%        0.725250    0.651000    0.821750   -5.446750      0.158000   \n",
       "max        0.925000    0.971000    0.993000   -2.706000      0.994000   \n",
       "\n",
       "       instrumentalness    liveness  speechiness         key       tempo  \\\n",
       "count        336.000000  336.000000   336.000000  336.000000  336.000000   \n",
       "mean           0.079687    0.305424     0.168143    5.181548  121.615961   \n",
       "std            0.209146    0.265685     0.150844    3.568488   29.594229   \n",
       "min            0.000000    0.016200     0.027100    0.000000   66.930000   \n",
       "25%            0.000000    0.097200     0.053650    1.000000   97.076500   \n",
       "50%            0.000020    0.201000     0.106500    6.000000  123.015000   \n",
       "75%            0.005510    0.392750     0.254750    8.000000  136.039000   \n",
       "max            0.937000    0.983000     0.940000   11.000000  216.788000   \n",
       "\n",
       "             mode    duration_ms  time_signature  \n",
       "count  336.000000     336.000000      336.000000  \n",
       "mean     0.651786  250289.229167        3.922619  \n",
       "std      0.477115   98478.940431        0.408814  \n",
       "min      0.000000   16373.000000        1.000000  \n",
       "25%      0.000000  200813.000000        4.000000  \n",
       "50%      1.000000  228933.000000        4.000000  \n",
       "75%      1.000000  278884.750000        4.000000  \n",
       "max      1.000000  597520.000000        5.000000  "
      ]
     },
     "execution_count": 52,
     "metadata": {},
     "output_type": "execute_result"
    }
   ],
   "source": [
    "beyonceTracks.describe()"
   ]
  },
  {
   "cell_type": "markdown",
   "metadata": {},
   "source": [
    "### menjumlah semua nilai"
   ]
  },
  {
   "cell_type": "code",
   "execution_count": 53,
   "metadata": {},
   "outputs": [
    {
     "data": {
      "text/plain": [
       "artist_name         BeyoncéBeyoncéBeyoncéBeyoncéBeyoncé, BEAMBeyon...\n",
       "track_name          I'M THAT GIRLCOZYALIEN SUPERSTARCUFF ITENERGY ...\n",
       "album_name          RENAISSANCERENAISSANCERENAISSANCERENAISSANCERE...\n",
       "is_explicit                                                        51\n",
       "genres              pop, r&bpop, r&bpop, r&bpop, r&bpop, r&bpop, r...\n",
       "release_date        2022-07-292022-07-292022-07-292022-07-292022-0...\n",
       "track_id            1MpCaOeUWhox2Fgigbe1cL0mKGwFMHzTprtS2vpR3b6s1H...\n",
       "danceability                                                  205.847\n",
       "valence                                                      164.7616\n",
       "energy                                                       229.3172\n",
       "loudness                                                    -2449.346\n",
       "acousticness                                                46.625868\n",
       "instrumentalness                                            26.774941\n",
       "liveness                                                     102.6224\n",
       "speechiness                                                    56.496\n",
       "key                                                              1741\n",
       "tempo                                                       40862.963\n",
       "mode                                                              219\n",
       "duration_ms                                                  84097181\n",
       "time_signature                                                   1318\n",
       "dtype: object"
      ]
     },
     "execution_count": 53,
     "metadata": {},
     "output_type": "execute_result"
    }
   ],
   "source": [
    "beyonceTracks.sum()"
   ]
  },
  {
   "cell_type": "markdown",
   "metadata": {},
   "source": [
    "### mencari median"
   ]
  },
  {
   "cell_type": "code",
   "execution_count": 56,
   "metadata": {},
   "outputs": [
    {
     "data": {
      "text/plain": [
       "228933.0"
      ]
     },
     "execution_count": 56,
     "metadata": {},
     "output_type": "execute_result"
    }
   ],
   "source": [
    "beyonceTracks['duration_ms'].median()"
   ]
  },
  {
   "cell_type": "markdown",
   "metadata": {},
   "source": [
    "### menghitung varians ( dari data numerik )"
   ]
  },
  {
   "cell_type": "code",
   "execution_count": 58,
   "metadata": {},
   "outputs": [
    {
     "data": {
      "text/plain": [
       "8.149918148365316"
      ]
     },
     "execution_count": 58,
     "metadata": {},
     "output_type": "execute_result"
    }
   ],
   "source": [
    "beyonceTracks['loudness'].var()"
   ]
  },
  {
   "cell_type": "markdown",
   "metadata": {},
   "source": [
    "### menghitung deviasi standard ( dari data numerik )"
   ]
  },
  {
   "cell_type": "code",
   "execution_count": 60,
   "metadata": {},
   "outputs": [
    {
     "data": {
      "text/plain": [
       "29.594229295414053"
      ]
     },
     "execution_count": 60,
     "metadata": {},
     "output_type": "execute_result"
    }
   ],
   "source": [
    "beyonceTracks['tempo'].std()"
   ]
  },
  {
   "cell_type": "markdown",
   "metadata": {},
   "source": [
    "### menghitung quantile (dari data numerik) <br> quantile yaitu nilai yang membagi data menjadi bagian bagian yang sama besar"
   ]
  },
  {
   "cell_type": "code",
   "execution_count": 65,
   "metadata": {},
   "outputs": [
    {
     "data": {
      "text/plain": [
       "0.0"
      ]
     },
     "execution_count": 65,
     "metadata": {},
     "output_type": "execute_result"
    }
   ],
   "source": [
    "beyonceTracks['instrumentalness'].quantile(0.25)"
   ]
  },
  {
   "cell_type": "markdown",
   "metadata": {},
   "source": [
    "### mencari pencilan ( dengan tuqeys fences(1) )"
   ]
  },
  {
   "cell_type": "code",
   "execution_count": 67,
   "metadata": {},
   "outputs": [
    {
     "data": {
      "text/plain": [
       "0.00551"
      ]
     },
     "execution_count": 67,
     "metadata": {},
     "output_type": "execute_result"
    }
   ],
   "source": [
    "q1 = beyonceTracks['instrumentalness'].quantile(0.25)\n",
    "q3 = beyonceTracks['instrumentalness'].quantile(0.75)\n",
    "iqr = q3 - q1\n",
    "iqr"
   ]
  },
  {
   "cell_type": "markdown",
   "metadata": {},
   "source": [
    "### mencari pencilan ( dengan tuqes fences(3) )"
   ]
  },
  {
   "cell_type": "code",
   "execution_count": null,
   "metadata": {},
   "outputs": [],
   "source": [
    "beyonceTracks[outlier_filter['duration_ms']] \\\n",
    "    .loc[:, ['track', 'duration_ms']] \\\n",
    "    .sort_values(by=['duration_ms'], ascending=False)"
   ]
  },
  {
   "cell_type": "markdown",
   "metadata": {},
   "source": [
    "### menghitung berapa kali setiap nilai munucul dalam series"
   ]
  },
  {
   "cell_type": "code",
   "execution_count": null,
   "metadata": {},
   "outputs": [],
   "source": [
    "beyonceTracks.value_counts()"
   ]
  },
  {
   "cell_type": "markdown",
   "metadata": {},
   "source": [
    "### analisis by grup by ( memungkinkan analisa di lakukan perkelompok )"
   ]
  },
  {
   "cell_type": "code",
   "execution_count": null,
   "metadata": {},
   "outputs": [],
   "source": [
    "beyonceTracks.groupby('album_name')['track_name']"
   ]
  },
  {
   "cell_type": "markdown",
   "metadata": {},
   "source": [
    "### corr() menghasilkan tabel korelasi pearson antar kolom-kolom numerik"
   ]
  },
  {
   "cell_type": "code",
   "execution_count": null,
   "metadata": {},
   "outputs": [],
   "source": [
    "df_noid.loc[:,'danceability':].corr()"
   ]
  },
  {
   "cell_type": "markdown",
   "metadata": {},
   "source": [
    "# NumPy\n",
    "NumPy adalah paket python yang di gunakan untuk komputasi ilmiah dan numerik. menyediakan antarmuka untuk array 2 dimensi dengan berbagai  fungsi matematika yang kuat untuk bekerja dengan array tersebut"
   ]
  },
  {
   "cell_type": "code",
   "execution_count": null,
   "metadata": {},
   "outputs": [],
   "source": [
    "#membuat array NumPy dari objek python seperti list atau tuple\n",
    "np_data = np.array(data)"
   ]
  },
  {
   "cell_type": "code",
   "execution_count": null,
   "metadata": {},
   "outputs": [
    {
     "data": {
      "text/plain": [
       "array([[68, 30],\n",
       "       [73, 50],\n",
       "       [63, 28],\n",
       "       [80, 55],\n",
       "       [58, 22],\n",
       "       [77, 45]], dtype=int64)"
      ]
     },
     "execution_count": 34,
     "metadata": {},
     "output_type": "execute_result"
    }
   ],
   "source": [
    "#menampilkan isi np_data\n",
    "np_data"
   ]
  },
  {
   "cell_type": "code",
   "execution_count": null,
   "metadata": {},
   "outputs": [
    {
     "data": {
      "text/plain": [
       "numpy.ndarray"
      ]
     },
     "execution_count": 35,
     "metadata": {},
     "output_type": "execute_result"
    }
   ],
   "source": [
    "#mengembalikan jenis atau tipe dalam objek\n",
    "type(np_data)"
   ]
  },
  {
   "cell_type": "code",
   "execution_count": null,
   "metadata": {},
   "outputs": [
    {
     "data": {
      "text/plain": [
       "(6, 2)"
      ]
     },
     "execution_count": 36,
     "metadata": {},
     "output_type": "execute_result"
    }
   ],
   "source": [
    "# mengembalikan dimensi dari suatu array dalam NumPy\n",
    "data.shape"
   ]
  },
  {
   "cell_type": "markdown",
   "metadata": {},
   "source": [
    "## pandas\n",
    "pandas adalah perpustakaan python yang di gunakan untuk analisis data dan manipulasi data"
   ]
  },
  {
   "cell_type": "code",
   "execution_count": null,
   "metadata": {},
   "outputs": [],
   "source": [
    "# install pandas terlebih dahulu dengan cara \"pip install pandas\" di dalam terminal\n",
    "import pandas as pd"
   ]
  },
  {
   "cell_type": "code",
   "execution_count": null,
   "metadata": {},
   "outputs": [
    {
     "data": {
      "text/html": [
       "<div>\n",
       "<style scoped>\n",
       "    .dataframe tbody tr th:only-of-type {\n",
       "        vertical-align: middle;\n",
       "    }\n",
       "\n",
       "    .dataframe tbody tr th {\n",
       "        vertical-align: top;\n",
       "    }\n",
       "\n",
       "    .dataframe thead th {\n",
       "        text-align: right;\n",
       "    }\n",
       "</style>\n",
       "<table border=\"1\" class=\"dataframe\">\n",
       "  <thead>\n",
       "    <tr style=\"text-align: right;\">\n",
       "      <th></th>\n",
       "      <th>Umur</th>\n",
       "      <th>Tinggi_badan</th>\n",
       "    </tr>\n",
       "  </thead>\n",
       "  <tbody>\n",
       "    <tr>\n",
       "      <th>0</th>\n",
       "      <td>68</td>\n",
       "      <td>30</td>\n",
       "    </tr>\n",
       "    <tr>\n",
       "      <th>1</th>\n",
       "      <td>73</td>\n",
       "      <td>50</td>\n",
       "    </tr>\n",
       "    <tr>\n",
       "      <th>2</th>\n",
       "      <td>63</td>\n",
       "      <td>28</td>\n",
       "    </tr>\n",
       "    <tr>\n",
       "      <th>3</th>\n",
       "      <td>80</td>\n",
       "      <td>55</td>\n",
       "    </tr>\n",
       "    <tr>\n",
       "      <th>4</th>\n",
       "      <td>58</td>\n",
       "      <td>22</td>\n",
       "    </tr>\n",
       "    <tr>\n",
       "      <th>5</th>\n",
       "      <td>77</td>\n",
       "      <td>45</td>\n",
       "    </tr>\n",
       "  </tbody>\n",
       "</table>\n",
       "</div>"
      ],
      "text/plain": [
       "   Umur  Tinggi_badan\n",
       "0    68            30\n",
       "1    73            50\n",
       "2    63            28\n",
       "3    80            55\n",
       "4    58            22\n",
       "5    77            45"
      ]
     },
     "execution_count": 38,
     "metadata": {},
     "output_type": "execute_result"
    }
   ],
   "source": [
    "data"
   ]
  },
  {
   "cell_type": "code",
   "execution_count": null,
   "metadata": {},
   "outputs": [
    {
     "data": {
      "text/plain": [
       "0    68\n",
       "1    73\n",
       "2    63\n",
       "3    80\n",
       "4    58\n",
       "5    77\n",
       "Name: Umur, dtype: int64"
      ]
     },
     "execution_count": 39,
     "metadata": {},
     "output_type": "execute_result"
    }
   ],
   "source": [
    "data[\"Umur\"]"
   ]
  },
  {
   "cell_type": "code",
   "execution_count": null,
   "metadata": {},
   "outputs": [
    {
     "data": {
      "text/plain": [
       "0    30\n",
       "1    50\n",
       "2    28\n",
       "3    55\n",
       "4    22\n",
       "5    45\n",
       "Name: Tinggi_badan, dtype: int64"
      ]
     },
     "execution_count": 40,
     "metadata": {},
     "output_type": "execute_result"
    }
   ],
   "source": [
    "data.Tinggi_badan"
   ]
  },
  {
   "cell_type": "markdown",
   "metadata": {},
   "source": [
    "## MatPlotLib\n",
    "matplotlib adalah perpustakaan python yang di buat untuk membuat visualisasi data dalam bentuk grafik dan plot"
   ]
  },
  {
   "cell_type": "code",
   "execution_count": null,
   "metadata": {},
   "outputs": [],
   "source": [
    "# install matplotlib dengan cara ketikan \"pip install myplotlib\"\n",
    "import matplotlib.pyplot as plt"
   ]
  },
  {
   "cell_type": "code",
   "execution_count": null,
   "metadata": {},
   "outputs": [],
   "source": [
    "year = [2020,2021,2022,2023,2024]"
   ]
  },
  {
   "cell_type": "code",
   "execution_count": null,
   "metadata": {},
   "outputs": [],
   "source": [
    "sales = [5,4,5,8,6]"
   ]
  },
  {
   "cell_type": "code",
   "execution_count": null,
   "metadata": {},
   "outputs": [
    {
     "data": {
      "text/plain": [
       "[<matplotlib.lines.Line2D at 0xd0d6070>]"
      ]
     },
     "execution_count": 44,
     "metadata": {},
     "output_type": "execute_result"
    },
    {
     "data": {
      "image/png": "[encoded data removed]",
      "text/plain": [
       "<Figure size 640x480 with 1 Axes>"
      ]
     },
     "metadata": {},
     "output_type": "display_data"
    }
   ],
   "source": [
    "# fungsi dari matplotlib yang digunakan untuk membuat plot garis atau kurva\n",
    "plt.plot(year,sales)\n"
   ]
  },
  {
   "cell_type": "code",
   "execution_count": null,
   "metadata": {},
   "outputs": [
    {
     "data": {
      "text/plain": [
       "<matplotlib.collections.PathCollection at 0xf2aba00>"
      ]
     },
     "execution_count": 45,
     "metadata": {},
     "output_type": "execute_result"
    },
    {
     "data": {
      "image/png": "[encoded data removed]",
      "text/plain": [
       "<Figure size 640x480 with 1 Axes>"
      ]
     },
     "metadata": {},
     "output_type": "display_data"
    }
   ],
   "source": [
    "# fungsi dari matplotlib yang digunakan untuk membuat plot sebaran atau scatter plot\n",
    "plt.scatter(year,sales)"
   ]
  },
  {
   "cell_type": "code",
   "execution_count": null,
   "metadata": {},
   "outputs": [
    {
     "data": {
      "text/plain": [
       "<BarContainer object of 5 artists>"
      ]
     },
     "execution_count": 46,
     "metadata": {},
     "output_type": "execute_result"
    },
    {
     "data": {
      "image/png": "[encoded data removed]",
      "text/plain": [
       "<Figure size 640x480 with 1 Axes>"
      ]
     },
     "metadata": {},
     "output_type": "display_data"
    }
   ],
   "source": [
    "# fungsi dari matplotlib yang digunakan untuk membuat diagram batang\n",
    "plt.bar(year,sales)"
   ]
  }
 ],
 "metadata": {
  "kernelspec": {
   "display_name": "Python 3.8.8rc1 64-bit",
   "language": "python",
   "name": "python3"
  },
  "language_info": {
   "codemirror_mode": {
    "name": "ipython",
    "version": 3
   },
   "file_extension": ".py",
   "mimetype": "text/x-python",
   "name": "python",
   "nbconvert_exporter": "python",
   "pygments_lexer": "ipython3",
   "version": "3.8.8rc1"
  },
  "orig_nbformat": 4,
  "vscode": {
   "interpreter": {
    "hash": "438727c8858bc46e257ba69863512eb04c8e9f5db9a1c7102296af502b4092eb"
   }
  }
 },
 "nbformat": 4,
 "nbformat_minor": 2
}
